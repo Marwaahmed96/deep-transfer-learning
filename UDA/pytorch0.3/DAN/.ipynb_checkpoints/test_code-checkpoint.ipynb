{
 "cells": [
  {
   "cell_type": "code",
   "execution_count": 14,
   "id": "19b3f95c",
   "metadata": {},
   "outputs": [],
   "source": [
    "import torch\n",
    "import os\n"
   ]
  },
  {
   "cell_type": "code",
   "execution_count": 15,
   "id": "37daa8f0",
   "metadata": {},
   "outputs": [
    {
     "name": "stdout",
     "output_type": "stream",
     "text": [
      "cuda available?  True\n",
      "cuda count  2\n",
      "current device  0\n"
     ]
    }
   ],
   "source": [
    "print('cuda available? ', torch.cuda.is_available())\n",
    "print('cuda count ', torch.cuda.device_count())\n",
    "print('current device ',torch.cuda.current_device())"
   ]
  },
  {
   "cell_type": "code",
   "execution_count": 16,
   "id": "e1e633b9",
   "metadata": {},
   "outputs": [
    {
     "name": "stdout",
     "output_type": "stream",
     "text": [
      "current device  0\n"
     ]
    }
   ],
   "source": [
    "os.environ[\"CUDA_VISIBLE_DEVICES\"] = \"1\"\n",
    "print('current device ',torch.cuda.current_device())"
   ]
  },
  {
   "cell_type": "code",
   "execution_count": 20,
   "id": "02c78125",
   "metadata": {},
   "outputs": [
    {
     "name": "stdout",
     "output_type": "stream",
     "text": [
      "current device  1\n"
     ]
    }
   ],
   "source": [
    "import torch \n",
    "os.environ[\"CUDA_VISIBLE_DEVICES\"] = \"1\"\n",
    "torch.cuda.set_device(1)\n",
    "print('current device ',torch.cuda.current_device())"
   ]
  },
  {
   "cell_type": "code",
   "execution_count": 5,
   "id": "f5abc9fb",
   "metadata": {},
   "outputs": [
    {
     "name": "stdout",
     "output_type": "stream",
     "text": [
      "NVIDIA GeForce RTX 2080 Ti\n",
      "NVIDIA GeForce RTX 2080 Ti\n"
     ]
    }
   ],
   "source": [
    "print(torch.cuda.get_device_name(0))\n",
    "print(torch.cuda.get_device_name(1))"
   ]
  },
  {
   "cell_type": "code",
   "execution_count": 22,
   "id": "7f900d64",
   "metadata": {},
   "outputs": [
    {
     "name": "stdout",
     "output_type": "stream",
     "text": [
      "Mon Oct 25 17:09:06 2021       \r\n",
      "+-----------------------------------------------------------------------------+\r\n",
      "| NVIDIA-SMI 465.19.01    Driver Version: 465.19.01    CUDA Version: 11.3     |\r\n",
      "|-------------------------------+----------------------+----------------------+\r\n",
      "| GPU  Name        Persistence-M| Bus-Id        Disp.A | Volatile Uncorr. ECC |\r\n",
      "| Fan  Temp  Perf  Pwr:Usage/Cap|         Memory-Usage | GPU-Util  Compute M. |\r\n",
      "|                               |                      |               MIG M. |\r\n",
      "|===============================+======================+======================|\r\n",
      "|   0  NVIDIA GeForce ...  On   | 00000000:01:00.0  On |                  N/A |\r\n",
      "| 72%   82C    P2   233W / 260W |  10943MiB / 11016MiB |     68%      Default |\r\n",
      "|                               |                      |                  N/A |\r\n",
      "+-------------------------------+----------------------+----------------------+\r\n",
      "|   1  NVIDIA GeForce ...  On   | 00000000:02:00.0 Off |                  N/A |\r\n",
      "| 31%   43C    P8     8W / 250W |    310MiB / 11019MiB |      0%      Default |\r\n",
      "|                               |                      |                  N/A |\r\n",
      "+-------------------------------+----------------------+----------------------+\r\n",
      "                                                                               \r\n",
      "+-----------------------------------------------------------------------------+\r\n",
      "| Processes:                                                                  |\r\n",
      "|  GPU   GI   CI        PID   Type   Process name                  GPU Memory |\r\n",
      "|        ID   ID                                                   Usage      |\r\n",
      "|=============================================================================|\r\n",
      "|    0   N/A  N/A      1288      G   /usr/lib/xorg/Xorg                 18MiB |\r\n",
      "|    0   N/A  N/A      1355      G   /usr/bin/gnome-shell               74MiB |\r\n",
      "|    0   N/A  N/A      2530      G   /usr/lib/xorg/Xorg                217MiB |\r\n",
      "|    0   N/A  N/A      2662      G   /usr/bin/gnome-shell               34MiB |\r\n",
      "|    0   N/A  N/A      5980      G   ...gAAAAAAAAA --shared-files       70MiB |\r\n",
      "|    0   N/A  N/A      6130      G   /usr/lib/snap-3.6.0/ITK-SNAP       22MiB |\r\n",
      "|    0   N/A  N/A     14915      G   /usr/bin/anydesk                   19MiB |\r\n",
      "|    0   N/A  N/A     18930      G   ..._18564.log --shared-files       82MiB |\r\n",
      "|    0   N/A  N/A     19094      C   ...icMSlesion_env/bin/python    10395MiB |\r\n",
      "|    1   N/A  N/A      1288      G   /usr/lib/xorg/Xorg                  4MiB |\r\n",
      "|    1   N/A  N/A      2530      G   /usr/lib/xorg/Xorg                  4MiB |\r\n",
      "|    1   N/A  N/A     19094      C   ...icMSlesion_env/bin/python      297MiB |\r\n",
      "+-----------------------------------------------------------------------------+\r\n"
     ]
    }
   ],
   "source": [
    "!nvidia-smi"
   ]
  },
  {
   "cell_type": "code",
   "execution_count": 7,
   "id": "912d79b7",
   "metadata": {},
   "outputs": [
    {
     "ename": "SyntaxError",
     "evalue": "invalid syntax (2578344406.py, line 1)",
     "output_type": "error",
     "traceback": [
      "\u001b[0;36m  File \u001b[0;32m\"/tmp/ipykernel_31255/2578344406.py\"\u001b[0;36m, line \u001b[0;32m1\u001b[0m\n\u001b[0;31m    watch -n 1 nvidia-smi\u001b[0m\n\u001b[0m             ^\u001b[0m\n\u001b[0;31mSyntaxError\u001b[0m\u001b[0;31m:\u001b[0m invalid syntax\n"
     ]
    }
   ],
   "source": [
    "watch -n 2 nvidia-smi"
   ]
  },
  {
   "cell_type": "code",
   "execution_count": null,
   "id": "69dcb203",
   "metadata": {},
   "outputs": [],
   "source": []
  },
  {
   "cell_type": "code",
   "execution_count": null,
   "id": "b121322b",
   "metadata": {},
   "outputs": [],
   "source": []
  },
  {
   "cell_type": "code",
   "execution_count": 1,
   "id": "83e41d8c",
   "metadata": {},
   "outputs": [],
   "source": [
    "from dataset_loader import *\n",
    "from config.settings import *\n",
    "import dataset_loader as dl"
   ]
  },
  {
   "cell_type": "code",
   "execution_count": 2,
   "id": "79e037b3",
   "metadata": {},
   "outputs": [],
   "source": [
    "st = Settings()\n",
    "options = st.get_options()"
   ]
  },
  {
   "cell_type": "code",
   "execution_count": 44,
   "id": "b21c2813",
   "metadata": {},
   "outputs": [
    {
     "data": {
      "text/plain": [
       "'1.9.1'"
      ]
     },
     "execution_count": 44,
     "metadata": {},
     "output_type": "execute_result"
    }
   ],
   "source": [
    "import torch\n",
    "torch.__version__"
   ]
  },
  {
   "cell_type": "code",
   "execution_count": 45,
   "id": "405b36c1",
   "metadata": {},
   "outputs": [],
   "source": [
    "import torch.nn as nn\n",
    "nn.AvgPool3d?"
   ]
  },
  {
   "cell_type": "code",
   "execution_count": 4,
   "id": "a10f3883",
   "metadata": {},
   "outputs": [
    {
     "ename": "NameError",
     "evalue": "name 'source_loader' is not defined",
     "output_type": "error",
     "traceback": [
      "\u001b[0;31m---------------------------------------------------------------------------\u001b[0m",
      "\u001b[0;31mNameError\u001b[0m                                 Traceback (most recent call last)",
      "\u001b[0;32m/tmp/ipykernel_17642/1656054068.py\u001b[0m in \u001b[0;36m<module>\u001b[0;34m\u001b[0m\n\u001b[0;32m----> 1\u001b[0;31m \u001b[0mlen_source_loader\u001b[0m \u001b[0;34m=\u001b[0m \u001b[0mlen\u001b[0m\u001b[0;34m(\u001b[0m\u001b[0msource_loader\u001b[0m\u001b[0;34m)\u001b[0m\u001b[0;34m\u001b[0m\u001b[0;34m\u001b[0m\u001b[0m\n\u001b[0m\u001b[1;32m      2\u001b[0m \u001b[0miter_source\u001b[0m \u001b[0;34m=\u001b[0m \u001b[0miter\u001b[0m\u001b[0;34m(\u001b[0m\u001b[0msource_loader\u001b[0m\u001b[0;34m)\u001b[0m\u001b[0;34m\u001b[0m\u001b[0;34m\u001b[0m\u001b[0m\n\u001b[1;32m      3\u001b[0m \u001b[0mnum_iter\u001b[0m \u001b[0;34m=\u001b[0m \u001b[0mlen_source_loader\u001b[0m\u001b[0;34m\u001b[0m\u001b[0;34m\u001b[0m\u001b[0m\n\u001b[1;32m      4\u001b[0m \u001b[0;32mfor\u001b[0m \u001b[0mi\u001b[0m \u001b[0;32min\u001b[0m \u001b[0mrange\u001b[0m\u001b[0;34m(\u001b[0m\u001b[0;36m1\u001b[0m\u001b[0;34m,\u001b[0m \u001b[0mnum_iter\u001b[0m\u001b[0;34m)\u001b[0m\u001b[0;34m:\u001b[0m\u001b[0;34m\u001b[0m\u001b[0;34m\u001b[0m\u001b[0m\n\u001b[1;32m      5\u001b[0m     \u001b[0mdata_source\u001b[0m\u001b[0;34m,\u001b[0m \u001b[0mlabel_source\u001b[0m \u001b[0;34m=\u001b[0m \u001b[0miter_source\u001b[0m\u001b[0;34m.\u001b[0m\u001b[0mnext\u001b[0m\u001b[0;34m(\u001b[0m\u001b[0;34m)\u001b[0m\u001b[0;34m\u001b[0m\u001b[0;34m\u001b[0m\u001b[0m\n",
      "\u001b[0;31mNameError\u001b[0m: name 'source_loader' is not defined"
     ]
    }
   ],
   "source": [
    "len_source_loader = len(source_loader)\n",
    "iter_source = iter(source_loader)\n",
    "num_iter = len_source_loader\n",
    "for i in range(1, num_iter):\n",
    "    data_source, label_source = iter_source.next()\n",
    "    "
   ]
  },
  {
   "cell_type": "code",
   "execution_count": 7,
   "id": "f31cea8f",
   "metadata": {},
   "outputs": [],
   "source": [
    "x= enumerate(data_loader)"
   ]
  },
  {
   "cell_type": "code",
   "execution_count": 6,
   "id": "198e95d8",
   "metadata": {},
   "outputs": [
    {
     "name": "stderr",
     "output_type": "stream",
     "text": [
      "/home/microsoft/Medical_Analysis/Code/Environments/medical_pytorch_env/lib/python3.7/site-packages/sklearn/model_selection/_split.py:668: UserWarning: The least populated class in y has only 4 members, which is less than n_splits=5.\n",
      "  % (min_groups, self.n_splits)), UserWarning)\n"
     ]
    }
   ],
   "source": [
    "from utils.data_preprocess import *\n",
    "df = generate_csv(options)\n",
    "split_folds(options['train_csv_path'], options['seed'], options['k_fold'])"
   ]
  },
  {
   "cell_type": "code",
   "execution_count": 22,
   "id": "c114eb90",
   "metadata": {},
   "outputs": [
    {
     "data": {
      "text/plain": [
       "Index(['root_path', 'patient_id', 'study', 'lesion', 'FLAIR', 'T1', 'fold'], dtype='object')"
      ]
     },
     "execution_count": 22,
     "metadata": {},
     "output_type": "execute_result"
    }
   ],
   "source": [
    "df.columns"
   ]
  },
  {
   "cell_type": "code",
   "execution_count": 37,
   "id": "2ccce29b",
   "metadata": {},
   "outputs": [],
   "source": [
    "import pandas as pd\n",
    "\n"
   ]
  },
  {
   "cell_type": "code",
   "execution_count": 39,
   "id": "48203c69",
   "metadata": {},
   "outputs": [
    {
     "data": {
      "text/plain": [
       "(array([['training01', '_01'],\n",
       "        ['training02', '_04'],\n",
       "        ['training03', '_02'],\n",
       "        ['training04', '_02'],\n",
       "        ['training05', '_02']], dtype=object),\n",
       " ['training01_01',\n",
       "  'training02_04',\n",
       "  'training03_02',\n",
       "  'training04_02',\n",
       "  'training05_02'])"
      ]
     },
     "execution_count": 39,
     "metadata": {},
     "output_type": "execute_result"
    }
   ],
   "source": []
  },
  {
   "cell_type": "code",
   "execution_count": 12,
   "id": "8602c9b3",
   "metadata": {},
   "outputs": [
    {
     "data": {
      "text/plain": [
       "['training01_01',\n",
       " 'training01_02',\n",
       " 'training01_03',\n",
       " 'training01_04',\n",
       " 'training02_01',\n",
       " 'training02_02',\n",
       " 'training02_03',\n",
       " 'training02_04',\n",
       " 'training03_01',\n",
       " 'training03_02',\n",
       " 'training03_03',\n",
       " 'training03_04',\n",
       " 'training03_05',\n",
       " 'training04_01',\n",
       " 'training04_02',\n",
       " 'training04_03',\n",
       " 'training04_04',\n",
       " 'training05_01',\n",
       " 'training05_02',\n",
       " 'training05_03',\n",
       " 'training05_04']"
      ]
     },
     "execution_count": 12,
     "metadata": {},
     "output_type": "execute_result"
    }
   ],
   "source": [
    "scan_list"
   ]
  },
  {
   "cell_type": "code",
   "execution_count": null,
   "id": "40e8a929",
   "metadata": {},
   "outputs": [],
   "source": []
  }
 ],
 "metadata": {
  "kernelspec": {
   "display_name": "Python 3 (ipykernel)",
   "language": "python",
   "name": "python3"
  },
  "language_info": {
   "codemirror_mode": {
    "name": "ipython",
    "version": 3
   },
   "file_extension": ".py",
   "mimetype": "text/x-python",
   "name": "python",
   "nbconvert_exporter": "python",
   "pygments_lexer": "ipython3",
   "version": "3.7.11"
  }
 },
 "nbformat": 4,
 "nbformat_minor": 5
}
