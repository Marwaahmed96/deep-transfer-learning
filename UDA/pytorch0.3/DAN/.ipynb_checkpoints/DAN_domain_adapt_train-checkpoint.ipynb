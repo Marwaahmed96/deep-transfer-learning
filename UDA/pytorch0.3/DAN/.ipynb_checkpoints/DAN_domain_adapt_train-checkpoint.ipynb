{
 "cells": [
  {
   "cell_type": "code",
   "execution_count": 1,
   "id": "185a1609",
   "metadata": {},
   "outputs": [],
   "source": [
    "from __future__ import print_function\n",
    "import argparse\n",
    "import torch\n",
    "import torch.nn.functional as F\n",
    "import torch.optim as optim\n",
    "from torch.autograd import Variable\n",
    "import os\n",
    "import math\n",
    "import data_loader\n",
    "import ResNet as models\n",
    "from torch.utils.tensorboard import SummaryWriter\n",
    "from config.Domain_Adapt_settings import *\n",
    "import pandas as pd\n",
    "import dataset_loader as dl"
   ]
  },
  {
   "cell_type": "code",
   "execution_count": 2,
   "id": "ddd23444",
   "metadata": {},
   "outputs": [],
   "source": [
    "torch.cuda.empty_cache()\n",
    "os.environ[\"CUDA_VISIBLE_DEVICES\"] = \"1\"\n",
    "# torch.cuda.set_device(1)\n",
    "writer = SummaryWriter('runs')\n",
    "\n",
    "# Training settings\n",
    "st = Settings()\n",
    "options = st.get_options()\n",
    "\n",
    "batch_size = options['batch_size']\n",
    "epochs = options['max_epochs']\n",
    "lr = [0.001, 0.01]\n",
    "momentum = 0.9\n",
    "no_cuda =False\n",
    "seed = options['seed']\n",
    "log_interval = 10\n",
    "l2_decay = 5e-4\n",
    "source_train_path = options['source_train_folder']\n",
    "target_train_path = options['target_train_folder']\n",
    "source_name = 'miccai'\n",
    "target_name = \"ISBI\"\n",
    "cuda = not no_cuda and torch.cuda.is_available()\n",
    "\n",
    "_, source_train_list, _ = next(os.walk(source_train_path))\n",
    "_, target_train_list, _ = next(os.walk(target_train_path))\n",
    "\n",
    "source_train_list.sort()\n",
    "target_train_list.sort()"
   ]
  },
  {
   "cell_type": "code",
   "execution_count": 3,
   "id": "c463da6e",
   "metadata": {},
   "outputs": [],
   "source": [
    "source_train_x_data = {f: {m: os.path.join(options['source_train_folder'], f, options['tmp_folder'], n)\n",
    "                    for m, n in zip(options['modalities'], options['preprocess_x_names'])}\n",
    "                for f in source_train_list}\n",
    "source_train_y_data = {f: os.path.join(options['source_train_folder'], f, options['tmp_folder'],\n",
    "                                options['preprocess_y_names'][0])\n",
    "                for f in source_train_list}\n",
    "\n",
    "target_train_x_data = {f: {m: os.path.join(options['target_train_folder'], f, options['tmp_folder'], n)\n",
    "                    for m, n in zip(options['modalities'], options['preprocess_x_names'])}\n",
    "                for f in target_train_list}"
   ]
  },
  {
   "cell_type": "code",
   "execution_count": 4,
   "id": "7f5c6f50",
   "metadata": {},
   "outputs": [],
   "source": [
    "torch.manual_seed(seed)\n",
    "if cuda:\n",
    "    torch.cuda.manual_seed(seed)\n",
    "\n",
    "kwargs = {'num_workers': 1, 'pin_memory': True} if cuda else {}"
   ]
  },
  {
   "cell_type": "code",
   "execution_count": 7,
   "id": "035d69b2",
   "metadata": {},
   "outputs": [
    {
     "name": "stdout",
     "output_type": "stream",
     "text": [
      "> CNN: loading training data for first model\n"
     ]
    },
    {
     "name": "stderr",
     "output_type": "stream",
     "text": [
      "/home/mostafa/Marwa/Code/deep-transfer-learning/UDA/pytorch0.3/DAN/utils/data_load.py:362: FutureWarning: Using a non-tuple sequence for multidimensional indexing is deprecated; use `arr[tuple(seq)]` instead of `arr[seq]`. In the future this will be interpreted as an array index, `arr[np.array(seq)]`, which will result either in an error or a different result.\n",
      "  patches = [new_image[idx] for idx in slices]\n"
     ]
    },
    {
     "name": "stdout",
     "output_type": "stream",
     "text": [
      "shape (1093132, 16, 16, 16)\n",
      "> CNN: train_x  (1093132, 2, 16, 16, 16) train_y  (1093132,)\n"
     ]
    }
   ],
   "source": [
    "source_train_loader = dl.load_training(options, source_train_x_data, source_train_y_data)"
   ]
  },
  {
   "cell_type": "code",
   "execution_count": null,
   "id": "066aba45",
   "metadata": {},
   "outputs": [
    {
     "name": "stdout",
     "output_type": "stream",
     "text": [
      "> CNN: loading training data for first model\n"
     ]
    }
   ],
   "source": [
    "target_train_loader = dl.load_training(options, target_train_x_data, y_data=None)"
   ]
  },
  {
   "cell_type": "code",
   "execution_count": null,
   "id": "32102f0f",
   "metadata": {},
   "outputs": [],
   "source": [
    "len_source_train_dataset = len(source_train_loader.dataset)\n",
    "len_source_train_loader = len(source_train_loader)\n",
    "print(len_source_train_dataset)\n",
    "print(len_source_train_loader)\n",
    "\n",
    "len_target_train_dataset = len(target_train_loader.dataset)\n",
    "len_target_train_loader = len(target_train_loader)\n",
    "print(len_target_train_dataset)\n",
    "print(len_target_train_loader)"
   ]
  },
  {
   "cell_type": "code",
   "execution_count": 5,
   "id": "d0e5f1a4",
   "metadata": {},
   "outputs": [],
   "source": [
    "model = models.DANNet(num_classes=2)"
   ]
  },
  {
   "cell_type": "code",
   "execution_count": 6,
   "id": "47926a37",
   "metadata": {},
   "outputs": [
    {
     "name": "stdout",
     "output_type": "stream",
     "text": [
      "/home/mostafa/Marwa/Code/deep-transfer-learning/UDA/pytorch0.3/DAN/weights/resnet_DAN_full_miccai_train/2_model.pth\n"
     ]
    }
   ],
   "source": [
    "FILE = os.path.join(options['weight_paths'], options['source_experiment'], options['pre_trained_model'])\n",
    "print(FILE)\n",
    "model = torch.load(FILE)"
   ]
  },
  {
   "cell_type": "code",
   "execution_count": 13,
   "id": "6a977ca2",
   "metadata": {},
   "outputs": [
    {
     "name": "stdout",
     "output_type": "stream",
     "text": [
      "['CHB_train_Case01', 'CHB_train_Case02', 'CHB_train_Case03', 'CHB_train_Case04', 'CHB_train_Case05', 'CHB_train_Case06', 'CHB_train_Case07', 'CHB_train_Case08', 'CHB_train_Case09', 'CHB_train_Case10', 'Center_01_Patient_01', 'Center_01_Patient_02', 'Center_01_Patient_03', 'Center_01_Patient_04', 'Center_01_Patient_05', 'Center_07_Patient_01', 'Center_07_Patient_02', 'Center_07_Patient_03', 'Center_07_Patient_04', 'Center_07_Patient_05', 'Center_08_Patient_01', 'Center_08_Patient_02', 'Center_08_Patient_03', 'Center_08_Patient_04', 'Center_08_Patient_05', 'UNC_train_Case01', 'UNC_train_Case02', 'UNC_train_Case03', 'UNC_train_Case04', 'UNC_train_Case05', 'UNC_train_Case06', 'UNC_train_Case07', 'UNC_train_Case08', 'UNC_train_Case09', 'UNC_train_Case10']\n",
      "['training01_01', 'training01_02', 'training01_03', 'training01_04', 'training02_01', 'training02_02', 'training02_03', 'training02_04', 'training03_01', 'training03_02', 'training03_03', 'training03_04', 'training03_05', 'training04_01', 'training04_02', 'training04_03', 'training04_04', 'training05_01', 'training05_02', 'training05_03', 'training05_04']\n"
     ]
    }
   ],
   "source": [
    "_, source_train_list, _ = next(os.walk(source_train_path))\n",
    "_, target_train_list, _ = next(os.walk(target_train_path))\n",
    "\n",
    "source_train_list.sort()\n",
    "target_train_list.sort()\n",
    "\n",
    "print(source_train_list)\n",
    "print(target_train_list)"
   ]
  },
  {
   "cell_type": "code",
   "execution_count": 14,
   "id": "15fed9de",
   "metadata": {},
   "outputs": [],
   "source": [
    "source_train_x_data = {f: {m: os.path.join(options['source_train_folder'], f, options['tmp_folder'], n)\n",
    "                    for m, n in zip(options['modalities'], options['preprocess_x_names'])}\n",
    "                for f in source_train_list}\n",
    "source_train_y_data = {f: os.path.join(options['source_train_folder'], f, options['tmp_folder'],\n",
    "                                options['preprocess_y_names'][0])\n",
    "                for f in source_train_list}\n",
    "\n",
    "target_train_x_data = {f: {m: os.path.join(options['target_train_folder'], f, options['tmp_folder'], n)\n",
    "                    for m, n in zip(options['modalities'], options['preprocess_x_names'])}\n",
    "                for f in target_train_list}"
   ]
  },
  {
   "cell_type": "code",
   "execution_count": 17,
   "id": "8a20f7af",
   "metadata": {},
   "outputs": [
    {
     "data": {
      "text/plain": [
       "{'training01_01': {'FLAIR': '/home/mostafa/Marwa/DataSets/ISBI/train/training01_01/tmp/FLAIR_brain.nii.gz',\n",
       "  'T1': '/home/mostafa/Marwa/DataSets/ISBI/train/training01_01/tmp/T1_brain.nii.gz'},\n",
       " 'training01_02': {'FLAIR': '/home/mostafa/Marwa/DataSets/ISBI/train/training01_02/tmp/FLAIR_brain.nii.gz',\n",
       "  'T1': '/home/mostafa/Marwa/DataSets/ISBI/train/training01_02/tmp/T1_brain.nii.gz'},\n",
       " 'training01_03': {'FLAIR': '/home/mostafa/Marwa/DataSets/ISBI/train/training01_03/tmp/FLAIR_brain.nii.gz',\n",
       "  'T1': '/home/mostafa/Marwa/DataSets/ISBI/train/training01_03/tmp/T1_brain.nii.gz'},\n",
       " 'training01_04': {'FLAIR': '/home/mostafa/Marwa/DataSets/ISBI/train/training01_04/tmp/FLAIR_brain.nii.gz',\n",
       "  'T1': '/home/mostafa/Marwa/DataSets/ISBI/train/training01_04/tmp/T1_brain.nii.gz'},\n",
       " 'training02_01': {'FLAIR': '/home/mostafa/Marwa/DataSets/ISBI/train/training02_01/tmp/FLAIR_brain.nii.gz',\n",
       "  'T1': '/home/mostafa/Marwa/DataSets/ISBI/train/training02_01/tmp/T1_brain.nii.gz'},\n",
       " 'training02_02': {'FLAIR': '/home/mostafa/Marwa/DataSets/ISBI/train/training02_02/tmp/FLAIR_brain.nii.gz',\n",
       "  'T1': '/home/mostafa/Marwa/DataSets/ISBI/train/training02_02/tmp/T1_brain.nii.gz'},\n",
       " 'training02_03': {'FLAIR': '/home/mostafa/Marwa/DataSets/ISBI/train/training02_03/tmp/FLAIR_brain.nii.gz',\n",
       "  'T1': '/home/mostafa/Marwa/DataSets/ISBI/train/training02_03/tmp/T1_brain.nii.gz'},\n",
       " 'training02_04': {'FLAIR': '/home/mostafa/Marwa/DataSets/ISBI/train/training02_04/tmp/FLAIR_brain.nii.gz',\n",
       "  'T1': '/home/mostafa/Marwa/DataSets/ISBI/train/training02_04/tmp/T1_brain.nii.gz'},\n",
       " 'training03_01': {'FLAIR': '/home/mostafa/Marwa/DataSets/ISBI/train/training03_01/tmp/FLAIR_brain.nii.gz',\n",
       "  'T1': '/home/mostafa/Marwa/DataSets/ISBI/train/training03_01/tmp/T1_brain.nii.gz'},\n",
       " 'training03_02': {'FLAIR': '/home/mostafa/Marwa/DataSets/ISBI/train/training03_02/tmp/FLAIR_brain.nii.gz',\n",
       "  'T1': '/home/mostafa/Marwa/DataSets/ISBI/train/training03_02/tmp/T1_brain.nii.gz'},\n",
       " 'training03_03': {'FLAIR': '/home/mostafa/Marwa/DataSets/ISBI/train/training03_03/tmp/FLAIR_brain.nii.gz',\n",
       "  'T1': '/home/mostafa/Marwa/DataSets/ISBI/train/training03_03/tmp/T1_brain.nii.gz'},\n",
       " 'training03_04': {'FLAIR': '/home/mostafa/Marwa/DataSets/ISBI/train/training03_04/tmp/FLAIR_brain.nii.gz',\n",
       "  'T1': '/home/mostafa/Marwa/DataSets/ISBI/train/training03_04/tmp/T1_brain.nii.gz'},\n",
       " 'training03_05': {'FLAIR': '/home/mostafa/Marwa/DataSets/ISBI/train/training03_05/tmp/FLAIR_brain.nii.gz',\n",
       "  'T1': '/home/mostafa/Marwa/DataSets/ISBI/train/training03_05/tmp/T1_brain.nii.gz'},\n",
       " 'training04_01': {'FLAIR': '/home/mostafa/Marwa/DataSets/ISBI/train/training04_01/tmp/FLAIR_brain.nii.gz',\n",
       "  'T1': '/home/mostafa/Marwa/DataSets/ISBI/train/training04_01/tmp/T1_brain.nii.gz'},\n",
       " 'training04_02': {'FLAIR': '/home/mostafa/Marwa/DataSets/ISBI/train/training04_02/tmp/FLAIR_brain.nii.gz',\n",
       "  'T1': '/home/mostafa/Marwa/DataSets/ISBI/train/training04_02/tmp/T1_brain.nii.gz'},\n",
       " 'training04_03': {'FLAIR': '/home/mostafa/Marwa/DataSets/ISBI/train/training04_03/tmp/FLAIR_brain.nii.gz',\n",
       "  'T1': '/home/mostafa/Marwa/DataSets/ISBI/train/training04_03/tmp/T1_brain.nii.gz'},\n",
       " 'training04_04': {'FLAIR': '/home/mostafa/Marwa/DataSets/ISBI/train/training04_04/tmp/FLAIR_brain.nii.gz',\n",
       "  'T1': '/home/mostafa/Marwa/DataSets/ISBI/train/training04_04/tmp/T1_brain.nii.gz'},\n",
       " 'training05_01': {'FLAIR': '/home/mostafa/Marwa/DataSets/ISBI/train/training05_01/tmp/FLAIR_brain.nii.gz',\n",
       "  'T1': '/home/mostafa/Marwa/DataSets/ISBI/train/training05_01/tmp/T1_brain.nii.gz'},\n",
       " 'training05_02': {'FLAIR': '/home/mostafa/Marwa/DataSets/ISBI/train/training05_02/tmp/FLAIR_brain.nii.gz',\n",
       "  'T1': '/home/mostafa/Marwa/DataSets/ISBI/train/training05_02/tmp/T1_brain.nii.gz'},\n",
       " 'training05_03': {'FLAIR': '/home/mostafa/Marwa/DataSets/ISBI/train/training05_03/tmp/FLAIR_brain.nii.gz',\n",
       "  'T1': '/home/mostafa/Marwa/DataSets/ISBI/train/training05_03/tmp/T1_brain.nii.gz'},\n",
       " 'training05_04': {'FLAIR': '/home/mostafa/Marwa/DataSets/ISBI/train/training05_04/tmp/FLAIR_brain.nii.gz',\n",
       "  'T1': '/home/mostafa/Marwa/DataSets/ISBI/train/training05_04/tmp/T1_brain.nii.gz'}}"
      ]
     },
     "execution_count": 17,
     "metadata": {},
     "output_type": "execute_result"
    }
   ],
   "source": [
    "target_train_x_data"
   ]
  },
  {
   "cell_type": "code",
   "execution_count": 26,
   "id": "8c58dfda",
   "metadata": {},
   "outputs": [
    {
     "name": "stderr",
     "output_type": "stream",
     "text": [
      "/home/mostafa/Marwa/Environments/deep_transfer_learning_env/lib/python3.7/site-packages/ipykernel_launcher.py:9: DeprecationWarning: get_data() is deprecated in favor of get_fdata(), which has a more predictable return type. To obtain get_data() behavior going forward, use numpy.asanyarray(img.dataobj).\n",
      "\n",
      "* deprecated from version: 3.0\n",
      "* Will raise <class 'nibabel.deprecator.ExpiredDeprecationError'> as of version: 5.0\n",
      "  if __name__ == '__main__':\n"
     ]
    }
   ],
   "source": [
    "from nibabel import load as load_nii\n",
    "from utils.data_load import *\n",
    "train_x_data = target_train_x_data\n",
    "# get_scan names and number of modalities used\n",
    "scans = list(target_train_x_data.keys())\n",
    "modalities = train_x_data[scans[0]].keys()\n",
    "flair_scans = [train_x_data[s]['FLAIR'] for s in scans]\n",
    "# load images and normalize their intensities\n",
    "images = [load_nii(image_name).get_data() for image_name in flair_scans]\n",
    "images_norm = [normalize_data(im) for im in images]"
   ]
  },
  {
   "cell_type": "code",
   "execution_count": 29,
   "id": "49737bab",
   "metadata": {},
   "outputs": [],
   "source": [
    "# select voxels with intensity higher than threshold\n",
    "selected_voxels = [image > options['min_th'] for image in images_norm]"
   ]
  },
  {
   "cell_type": "code",
   "execution_count": 34,
   "id": "c2a5fea5",
   "metadata": {},
   "outputs": [
    {
     "name": "stdout",
     "output_type": "stream",
     "text": [
      "21 (181, 217, 181)\n"
     ]
    },
    {
     "name": "stderr",
     "output_type": "stream",
     "text": [
      "/home/mostafa/Marwa/Code/deep-transfer-learning/UDA/pytorch0.3/DAN/utils/data_load.py:362: FutureWarning: Using a non-tuple sequence for multidimensional indexing is deprecated; use `arr[tuple(seq)]` instead of `arr[seq]`. In the future this will be interpreted as an array index, `arr[np.array(seq)]`, which will result either in an error or a different result.\n",
      "  patches = [new_image[idx] for idx in slices]\n"
     ]
    }
   ],
   "source": [
    "print(len(selected_voxels), selected_voxels[0].shape)\n",
    "data = []\n",
    "\n",
    "for m in modalities:\n",
    "    x_data = [train_x_data[s][m] for s in scans]\n",
    "random_state=42\n",
    "datatype=np.float32\n",
    "patch_size = options['patch_size']\n",
    "# Get all the x,y,z coordinates for each image\n",
    "centers = [get_mask_voxels(mask) for mask in selected_voxels]\n",
    "\n",
    "patches = [np.array(get_patches(image, centers, patch_size))\n",
    "                 for image, centers in zip(images_norm, centers)]"
   ]
  },
  {
   "cell_type": "code",
   "execution_count": 38,
   "id": "20e8242d",
   "metadata": {},
   "outputs": [
    {
     "name": "stdout",
     "output_type": "stream",
     "text": [
      "256798\n",
      "7109137\n"
     ]
    }
   ],
   "source": [
    "print(len(centers[0]))\n",
    "print(181 * 217* 181)"
   ]
  },
  {
   "cell_type": "code",
   "execution_count": null,
   "id": "4c78f9ef",
   "metadata": {},
   "outputs": [],
   "source": [
    "\n",
    "\n",
    "    \n",
    "    data = []\n",
    "\n",
    "    for m in modalities:\n",
    "        x_data = [train_x_data[s][m] for s in scans]\n",
    "    "
   ]
  }
 ],
 "metadata": {
  "kernelspec": {
   "display_name": "Python 3 (ipykernel)",
   "language": "python",
   "name": "python3"
  },
  "language_info": {
   "codemirror_mode": {
    "name": "ipython",
    "version": 3
   },
   "file_extension": ".py",
   "mimetype": "text/x-python",
   "name": "python",
   "nbconvert_exporter": "python",
   "pygments_lexer": "ipython3",
   "version": "3.7.11"
  }
 },
 "nbformat": 4,
 "nbformat_minor": 5
}
